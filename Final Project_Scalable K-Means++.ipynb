{
 "cells": [
  {
   "cell_type": "markdown",
   "metadata": {},
   "source": [
    "# <center> STA663 Final Project: Scalable K-means\n",
    "### <center> Xin Xu, Fu Wen"
   ]
  },
  {
   "cell_type": "markdown",
   "metadata": {},
   "source": [
    "## <center> Abstract "
   ]
  },
  {
   "cell_type": "markdown",
   "metadata": {},
   "source": [
    "Due to its simplicity, the k-means algorithm is one of the most famous machine learning algorithms used to cluster data[1]. The main critical problem of this algorithm is that it might be blocked locally based on the initial random chosen centers. The k-means++ algorithm is developed to solve this problem, spreading out the initial centers with an updating non-uniform distribution. However, K-means++ has a limited applicability to large data sets due to its inherent sequential nature, which requires k passes through the whole data set to find the optimal initialization of centers. The K-means|| algorithm in the paper \"Scalable K-Means++\" is the parallel version of the k-means++[2] and an improvement. Instead of sampling a single point, it oversamples a couple of centers in each iteration and guarantees the performance at the same time. In this report, we firstly implemented the K-means|| algorithm in Python. Then, we parallelized the algorithm in Spark and applied it to the GAUSSMIXTURE dataset simulated as in [1] and the SPAM dataset from UC Irvine Machine Learning repository [3]. In the end, we compared the clustering cost and convergence speed with the k-means|| algorithm to the result of the k-means and the k-means++."
   ]
  },
  {
   "cell_type": "markdown",
   "metadata": {},
   "source": [
    "## 1. Introduction"
   ]
  },
  {
   "cell_type": "markdown",
   "metadata": {},
   "source": [
    "### 1.1 Background and Related Algorithm\n",
    "\n",
    "As one of the most popular clustering algorithms, the **k-means** algorithm has been widely used for the last half of the century[4]. The main idea is to randomly choose k centers, repeatedly assign each point to its nearest center and calculate the new centers by minimizing the sum of the squares of the distance in its neighborhood.\n",
    "\n",
    "The k-means algorithm has a critical problem of unreliable initialization[2]. This algorithm with an incorrect initialization cannot find a globally optimal solution but rests on a locally optimal solution. In addition, the running time before convergence is long. **K-means++** algorithm avoids this problem by finding k better initial centers. It first samples one random point uniformly from the data, then sets the subsequent k-1 centers with probability proportional to its contribution to the overall error given the previous centers. In contrast to the k-means algorithm, k-means++ reduces the probability of picking several initial centers in one cluster. However, the sequence initialization process also limits its applicability to large data sets or data with large k since the whole algorithm is not scalable.\n",
    "\n",
    "Bahmani et al. constructed the scalable k-means++ algorithm (**k-means||** algorithm) in their paper \"Scalable K-Means++\"[1]. The main idea is to sample more than one point (O(k)) in each round and repeat the process for fewer iterations (O(logn)). Then, the algorithm reclusters the O(klogn) points generated from the above process into k initial centers.\n",
    "\n"
   ]
  },
  {
   "cell_type": "markdown",
   "metadata": {},
   "source": [
    "### 1.2 Notation and the Algorithm\n",
    "\n",
    "Suppose $X = \\{x_1, \\dots, x_n \\}$ are d-dimentional points to be clustered and k is the number of cluster (a positer integer). \n",
    "\n",
    "For a subset $Y \\in X$, define the distance from a point $x$ to $Y$ as $d(x,Y) = min_{y \\in Y} \\| x-y\\|$, where $\\|x -y \\|$denote the Euclidean distance between $x$ and $y$, define the centroid of $Y$ as\n",
    "$$Centroid(Y) = \\frac{1}{|Y|} \\sum_{y \\in Y} y$$\n",
    "\n",
    "For a set of cluster centers $C = \\{ c_1, c_2 ,\\dots , c_k\\}$, define the _cost of $Y$_ with respect to $C$ as:\n",
    "\n",
    "$$ \\phi_Y(C) = \\sum_{y \\in Y} d(y,C)^2$$\n",
    "\n",
    "In k-means|| algorithm, it set an oversampling factor $l = \\Omega (k)$. $l>1$ is an integer.\n",
    "\n",
    "1. Sample a point uniformaly from X as the first center $C$\n",
    "2. Compute the cost of clustering based on this choice $\\phi_{X}(C)=\\psi$\n",
    "3. for $O(log\\psi)$ times repeat:  \n",
    "a. Independently sample $l$ points with probability $p_{x}=\\frac{l\\cdot d^{2}(x,C)}{\\phi_{X}(C)}$ as $C'$\n",
    "b. $C=C\\cup C'$\n",
    "4. For each point $x \\in C$, compute $w_{x}$ as the number of points in $X$ closer to x than other point in $C$\n",
    "5. Get k clusters from reclustering those weighted points in $C$ "
   ]
  },
  {
   "cell_type": "markdown",
   "metadata": {},
   "source": [
    "## 2.  Implementation"
   ]
  },
  {
   "cell_type": "markdown",
   "metadata": {},
   "source": [
    "### 2.1 K-Means "
   ]
  },
  {
   "cell_type": "code",
   "execution_count": 3,
   "metadata": {
    "collapsed": false
   },
   "outputs": [
    {
     "name": "stdout",
     "output_type": "stream",
     "text": [
      "Writing distance_func.py\n"
     ]
    }
   ],
   "source": [
    "%%file distance_func.py\n",
    "import numpy as np\n",
    "\n",
    "def distance(data, centroids):\n",
    "    \"\"\" Calculate the distance from each data point to each center\n",
    "    Parameters:\n",
    "       data   n*d\n",
    "       center k*d\n",
    "    \n",
    "    Returns:\n",
    "       distence n*k \n",
    "    \"\"\"\n",
    "    ## calculate distence between each point to the centroids\n",
    "    dist = np.sum((data[:, np.newaxis, :] - centroids)**2, axis=2)\n",
    "    return dist"
   ]
  },
  {
   "cell_type": "code",
   "execution_count": 4,
   "metadata": {
    "collapsed": false
   },
   "outputs": [
    {
     "name": "stdout",
     "output_type": "stream",
     "text": [
      "Writing kmeans_func.py\n"
     ]
    }
   ],
   "source": [
    "%%file kmeans_func.py\n",
    "import numpy as np\n",
    "from distance_func import distance\n",
    "\n",
    "def KMeans(data, k, centroids, max_iter = 10000): \n",
    "    \n",
    "    \"\"\" Apply the KMeans clustering algorithm\n",
    "    \n",
    "    Parameters:\n",
    "      data                        ndarrays data \n",
    "      k                           number of cluster\n",
    "      centroids                   initial centroids\n",
    "    \n",
    "    Returns:\n",
    "      \"Iteration before Coverge\"  time used to converge\n",
    "      \"Centroids\"                 the final centroids finded by KMeans    \n",
    "      \"Labels\"                    the cluster of each data   \n",
    "    \"\"\"\n",
    "    \n",
    "    n = data.shape[0] \n",
    "    iterations = 0\n",
    "    \n",
    "    while iterations < max_iter:        \n",
    "        dist = distance(data,centroids)\n",
    "        \n",
    "        ## give cluster label to each point \n",
    "        cluster_label = np.argmin(dist, axis=1)\n",
    "        \n",
    "        ## calculate new centroids\n",
    "        newCentroids = np.zeros(centroids.shape)\n",
    "        for j in range(0, k):\n",
    "            if sum(cluster_label == j) == 0:\n",
    "                newCentroids[j] = centroids[j]\n",
    "            else:\n",
    "                newCentroids[j] = np.mean(data[cluster_label == j, :], axis=0)\n",
    "        \n",
    "        ## Check if it is converged\n",
    "        if np.array_equal(centroids, newCentroids):\n",
    "            print(\"Converge\")\n",
    "            break \n",
    "            \n",
    "        centroids = newCentroids\n",
    "        iterations += 1\n",
    "        \n",
    "    return({\"Iteration before Coverge\": iterations, \n",
    "            \"Centroids\": centroids, \n",
    "            \"Labels\": cluster_label})"
   ]
  },
  {
   "cell_type": "markdown",
   "metadata": {},
   "source": [
    "### 2.2.2 K-Means++"
   ]
  },
  {
   "cell_type": "code",
   "execution_count": 21,
   "metadata": {
    "collapsed": false
   },
   "outputs": [
    {
     "name": "stdout",
     "output_type": "stream",
     "text": [
      "Overwriting cost_func.py\n"
     ]
    }
   ],
   "source": [
    "%%file cost_func.py\n",
    "import numpy as np\n",
    "\n",
    "def cost(dist):\n",
    "    \"\"\" Calculate the cost of data with respect to the current centroids\n",
    "    Parameters:\n",
    "       dist     distance matrix between data and current centroids\n",
    "    \n",
    "    Returns:    the normalized constant in the distribution \n",
    "    \"\"\"\n",
    "    return np.sum(np.min(dist,axis=1))"
   ]
  },
  {
   "cell_type": "code",
   "execution_count": 22,
   "metadata": {
    "collapsed": false
   },
   "outputs": [
    {
     "name": "stdout",
     "output_type": "stream",
     "text": [
      "Overwriting distribution_func.py\n"
     ]
    }
   ],
   "source": [
    "%%file distribution_func.py\n",
    "import numpy as np\n",
    "\n",
    "def distribution(dist,cost):\n",
    "    \"\"\" Calculate the distribution to sample new centers\n",
    "    Parameters:\n",
    "       dist       distance matrix between data and current centroids\n",
    "       cost       the cost of data with respect to the current centroids\n",
    "    Returns:      distribution \n",
    "    \"\"\"\n",
    "    return np.min(dist, axis=1)/cost"
   ]
  },
  {
   "cell_type": "code",
   "execution_count": 23,
   "metadata": {
    "collapsed": false
   },
   "outputs": [
    {
     "name": "stdout",
     "output_type": "stream",
     "text": [
      "Overwriting sample_new_func.py\n"
     ]
    }
   ],
   "source": [
    "%%file sample_new_func.py\n",
    "import numpy as np\n",
    "def sample_new(data,distribution,l):\n",
    "    \"\"\" Sample new centers\n",
    "    \n",
    "    Parameters:\n",
    "       data         n*d\n",
    "       distribution n*1\n",
    "       l            the number of new centers to sample\n",
    "    Returns:        new centers                          \n",
    "    \"\"\"\n",
    "    return data[np.random.choice(range(len(distribution)),l,p=distribution),:]"
   ]
  },
  {
   "cell_type": "code",
   "execution_count": 24,
   "metadata": {
    "collapsed": false
   },
   "outputs": [
    {
     "name": "stdout",
     "output_type": "stream",
     "text": [
      "Overwriting kmeanspp_func.py\n"
     ]
    }
   ],
   "source": [
    "%%file kmeanspp_func.py\n",
    "import numpy as np\n",
    "from distance_func import distance\n",
    "from cost_func import cost\n",
    "from distribution_func import distribution\n",
    "from sample_new_func import sample_new\n",
    "\n",
    "def KMeansPlusPlus(data, k):    \n",
    "    \"\"\" Apply the KMeans++ clustering algorithm to get the initial centroids   \n",
    "    Parameters: \n",
    "      data                        ndarrays data \n",
    "      k                           number of cluster\n",
    "    \n",
    "    Returns:\n",
    "      \"Centroids\"                 the complete initial centroids by KMeans++\n",
    "      \n",
    "    \"\"\"\n",
    "    \n",
    "    #Initialize the first centroid\n",
    "    centroids = data[np.random.choice(data.shape[0],1),:]\n",
    "    \n",
    "    while centroids.shape[0] < k :\n",
    "                \n",
    "        #Get the distance between data and centroids\n",
    "        dist = distance(data, centroids)\n",
    "        \n",
    "        #Calculate the cost of data with respect to the centroids\n",
    "        norm_const = cost(dist)\n",
    "        \n",
    "        #Calculate the distribution for sampling a new center\n",
    "        p = distribution(dist,norm_const)\n",
    "        \n",
    "        #Sample the new center and append it to the original ones\n",
    "        centroids = np.r_[centroids, sample_new(data,p,1)]\n",
    "    \n",
    "    return centroids"
   ]
  },
  {
   "cell_type": "markdown",
   "metadata": {},
   "source": [
    "### 2.2.3 Kmeans Parallel"
   ]
  },
  {
   "cell_type": "code",
   "execution_count": 25,
   "metadata": {
    "collapsed": false
   },
   "outputs": [
    {
     "name": "stdout",
     "output_type": "stream",
     "text": [
      "Overwriting get_weight_func.py\n"
     ]
    }
   ],
   "source": [
    "%%file get_weight_func.py\n",
    "import numpy as np\n",
    "\n",
    "def get_weight(dist,centroids):\n",
    "    min_dist = np.zeros(dist.shape)\n",
    "    min_dist[range(dist.shape[0]), np.argmin(dist, axis=1)] = 1\n",
    "    count = np.array([np.count_nonzero(min_dist[:, i]) for i in range(centroids.shape[0])])\n",
    "    return count/np.sum(count)"
   ]
  },
  {
   "cell_type": "code",
   "execution_count": 26,
   "metadata": {
    "collapsed": false
   },
   "outputs": [
    {
     "name": "stdout",
     "output_type": "stream",
     "text": [
      "Writing scalablekmeanspp_func.py\n"
     ]
    }
   ],
   "source": [
    "%%file scalablekmeanspp_func.py\n",
    "import numpy as np\n",
    "from distance_func import distance\n",
    "from cost_func import cost\n",
    "from distribution_func import distribution\n",
    "from sample_new_func import sample_new\n",
    "from get_weight_func import get_weight\n",
    "\n",
    "def ScalableKMeansPlusPlus(data, k, l):\n",
    "    \n",
    "    \"\"\" Apply the KMeans|| clustering algorithm\n",
    "    \n",
    "    Parameters:\n",
    "      data     ndarrays data \n",
    "      k        number of cluster\n",
    "      l        number of point sampled in each iteration\n",
    "    \n",
    "    Returns:   the final centroids finded by KMeans||  \n",
    "      \n",
    "    \"\"\"\n",
    "    \n",
    "    centroids = data[np.random.choice(range(data.shape[0]),1), :]\n",
    "    \n",
    "    #Calculate the iteration time\n",
    "    dist = distance(data,centroids)\n",
    "    iter = int(np.log(cost(dist)))\n",
    "    \n",
    "    for i in range(iter):\n",
    "        #Get the distance between data and centroids\n",
    "        dist = distance(data, centroids)\n",
    "        \n",
    "        #Calculate the cost of data with respect to the centroids\n",
    "        norm_const = cost(dist)\n",
    "        \n",
    "        #Calculate the distribution for sampling l new centers\n",
    "        p = distribution(dist,norm_const)\n",
    "        \n",
    "        #Sample the l new centers and append them to the original ones\n",
    "        centroids = np.r_[centroids, sample_new(data,p,l)]\n",
    "    \n",
    "\n",
    "    ## reduce k*l to k using KMeans++ \n",
    "    dist = distance(data, centroids)\n",
    "    weights = get_weight(dist,centroids)\n",
    "    \n",
    "    return centroids[np.random.choice(range(len(weights)),k,p=weights),:]"
   ]
  },
  {
   "cell_type": "code",
   "execution_count": 27,
   "metadata": {
    "collapsed": false,
    "scrolled": false
   },
   "outputs": [],
   "source": [
    "from kmeanspp_func import KMeansPlusPlus\n",
    "from scalablekmeanspp_func import ScalableKMeansPlusPlus\n",
    "l = 10\n",
    "initial_Kpp = KMeansPlusPlus(data,k)\n",
    "initial_Kll = ScalableKMeansPlusPlus(data,k,l)"
   ]
  },
  {
   "cell_type": "code",
   "execution_count": 28,
   "metadata": {
    "collapsed": false,
    "scrolled": true
   },
   "outputs": [
    {
     "data": {
      "text/plain": [
       "(20, 15)"
      ]
     },
     "execution_count": 28,
     "metadata": {},
     "output_type": "execute_result"
    }
   ],
   "source": [
    "initial_Kll.shape"
   ]
  },
  {
   "cell_type": "code",
   "execution_count": null,
   "metadata": {
    "collapsed": true
   },
   "outputs": [],
   "source": []
  },
  {
   "cell_type": "markdown",
   "metadata": {},
   "source": [
    "## 3. Testing"
   ]
  },
  {
   "cell_type": "code",
   "execution_count": 66,
   "metadata": {
    "collapsed": false
   },
   "outputs": [
    {
     "name": "stdout",
     "output_type": "stream",
     "text": [
      "Overwriting test_distance.py\n"
     ]
    }
   ],
   "source": [
    "%%file test_distance.py\n",
    "\n",
    "import numpy as np\n",
    "from numpy.testing import assert_almost_equal\n",
    "from distance_func import distance\n",
    "\n",
    "def test_non_negativity():\n",
    "    u = np.random.normal(size=(3,4))\n",
    "    v = np.random.normal(size=(5,4))\n",
    "    assert (distance(u, v)>= 0).all()\n",
    "    \n",
    "def test_coincidence_when_zero():\n",
    "    u = np.zeros((3,4))\n",
    "    v = np.zeros((5,4))\n",
    "    assert (distance(u, v)==0).all()\n",
    "\n",
    "def test_coincidence_when_not_zero():\n",
    "    u = np.random.normal(size=(3,4))\n",
    "    v = np.random.normal(size=(5,4))\n",
    "    assert (distance(u, v)!= 0).any()\n",
    "\n",
    "def test_symmetry():\n",
    "    u = np.random.normal(size=(3,4))\n",
    "    v = np.random.normal(size=(5,4))\n",
    "    assert (distance(u, v)== distance(v, u).T).all()\n",
    "\n",
    "def test_known1():\n",
    "    u = np.array([[0,0],[1,1]])\n",
    "    v = np.array([[0,0],[1,1]])\n",
    "    dist = np.array([[0,2],[2,0]])\n",
    "    assert_almost_equal(distance(u, v), dist)\n",
    "    \n",
    "def test_known2():\n",
    "    u = np.array([[0,0,0],[1,1,1],[2,2,2]])\n",
    "    v = np.array([[1,1,1],[2,2,2],[3,3,3]])\n",
    "    dist = np.array([[3,12,27],[0,3,12],[3,0,3]])\n",
    "    assert_almost_equal(distance(u, v), dist)"
   ]
  },
  {
   "cell_type": "code",
   "execution_count": 67,
   "metadata": {
    "collapsed": false
   },
   "outputs": [
    {
     "name": "stdout",
     "output_type": "stream",
     "text": [
      "Overwriting test_cost.py\n"
     ]
    }
   ],
   "source": [
    "%%file test_cost.py\n",
    "\n",
    "import numpy as np\n",
    "from numpy.testing import assert_almost_equal\n",
    "from cost_func import cost\n",
    "from distance_func import distance\n",
    "\n",
    "def test_non_negative():\n",
    "    for i in range(10):\n",
    "        data = np.random.normal(size=(5,4))\n",
    "        c = data[np.random.choice(range(4),2),]\n",
    "        dist = distance(data,c)\n",
    "        assert cost(dist) >= 0\n"
   ]
  },
  {
   "cell_type": "code",
   "execution_count": 70,
   "metadata": {
    "collapsed": false
   },
   "outputs": [
    {
     "name": "stdout",
     "output_type": "stream",
     "text": [
      "Overwriting test_distribution.py\n"
     ]
    }
   ],
   "source": [
    "%%file test_distribution.py\n",
    "\n",
    "import numpy as np\n",
    "from numpy.testing import assert_almost_equal\n",
    "from cost_func import cost\n",
    "from distance_func import distance\n",
    "from distribution_func import distribution\n",
    "\n",
    "def test_non_negative():\n",
    "    data = np.random.normal(size=(20,4))\n",
    "    centroids = data[np.random.choice(range(4),4),]\n",
    "    dist = distance(data,centroids)\n",
    "    c = cost(dist)\n",
    "    p = distribution(dist,c)\n",
    "    assert (p>=0).all()\n",
    "    \n",
    "def test_sum_to_one():\n",
    "    data = np.random.normal(size=(20,4))\n",
    "    centroids = data[np.random.choice(range(4),4),]\n",
    "    dist = distance(data,centroids)\n",
    "    c = cost(dist)\n",
    "    p = distribution(dist,c)\n",
    "    assert_almost_equal(np.sum(p),1)"
   ]
  },
  {
   "cell_type": "code",
   "execution_count": 82,
   "metadata": {
    "collapsed": false
   },
   "outputs": [
    {
     "name": "stdout",
     "output_type": "stream",
     "text": [
      "Overwriting test_sample_new.py\n"
     ]
    }
   ],
   "source": [
    "%%file test_sample_new.py\n",
    "import numpy as np\n",
    "from numpy.testing import assert_almost_equal\n",
    "from cost_func import cost\n",
    "from distance_func import distance\n",
    "from distribution_func import distribution\n",
    "from sample_new_func import sample_new\n",
    "\n",
    "def test_length():\n",
    "    data = np.random.normal(size=(20,4))\n",
    "    centroids = data[np.random.choice(range(4),4),]\n",
    "    dist = distance(data,centroids)\n",
    "    c = cost(dist)\n",
    "    p = distribution(dist,c)\n",
    "    l = 5\n",
    "    c_new = sample_new(data,p,l)\n",
    "    assert len(c_new)==5\n",
    "\n",
    "def test_in_data():\n",
    "    data = np.random.normal(size=(20,4))\n",
    "    centroids = data[np.random.choice(range(4),4),]\n",
    "    dist = distance(data,centroids)\n",
    "    c = cost(dist)\n",
    "    p = distribution(dist,c)\n",
    "    l = 5\n",
    "    c_new = sample_new(data,p,l)\n",
    "    check = [i in data for i in c_new]\n",
    "    assert all(check)\n",
    "    "
   ]
  },
  {
   "cell_type": "code",
   "execution_count": 83,
   "metadata": {
    "collapsed": false
   },
   "outputs": [
    {
     "name": "stdout",
     "output_type": "stream",
     "text": [
      "Overwriting test_weights.py\n"
     ]
    }
   ],
   "source": [
    "%%file test_weights.py\n",
    "\n",
    "import numpy as np\n",
    "from numpy.testing import assert_almost_equal\n",
    "from cost_func import cost\n",
    "from distance_func import distance\n",
    "from get_weight_func import get_weight\n",
    "\n",
    "def test_non_negative():\n",
    "    data = np.random.normal(size=(20,4))\n",
    "    centroids = data[np.random.choice(range(4),4),]\n",
    "    dist = distance(data,centroids)\n",
    "    w = get_weight(dist,centroids)\n",
    "    assert (w>=0).all()\n",
    "    \n",
    "def test_sum_to_one():\n",
    "    data = np.random.normal(size=(20,4))\n",
    "    centroids = data[np.random.choice(range(4),4),]\n",
    "    dist = distance(data,centroids)\n",
    "    w = get_weight(dist,centroids)\n",
    "    assert_almost_equal(np.sum(w),1)"
   ]
  },
  {
   "cell_type": "code",
   "execution_count": 88,
   "metadata": {
    "collapsed": false
   },
   "outputs": [
    {
     "name": "stdout",
     "output_type": "stream",
     "text": [
      "Overwriting test_kmeans.py\n"
     ]
    }
   ],
   "source": [
    "%%file test_kmeans.py\n",
    "import numpy as np\n",
    "from distance_func import distance\n",
    "from kmeans_func import KMeans\n",
    "\n",
    "def test_label():\n",
    "    for i in range(10):\n",
    "        data = np.random.normal(size=(50,2))\n",
    "        k = 3\n",
    "        centroids = data[np.random.choice(range(data.shape[0]), k, replace=False),:]\n",
    "        label = model = KMeans(data, k, centroids)[\"Labels\"]\n",
    "        assert max(label) == k-1 and len(label)==data.shape[0]"
   ]
  },
  {
   "cell_type": "code",
   "execution_count": 92,
   "metadata": {
    "collapsed": false
   },
   "outputs": [
    {
     "name": "stdout",
     "output_type": "stream",
     "text": [
      "Overwriting test_kmeanspp.py\n"
     ]
    }
   ],
   "source": [
    "%%file test_kmeanspp.py\n",
    "import numpy as np\n",
    "from distance_func import distance\n",
    "from cost_func import cost\n",
    "from distribution_func import distribution\n",
    "from sample_new_func import sample_new\n",
    "from kmeanspp_func import KMeansPlusPlus\n",
    "from scalablekmeanspp_func import ScalableKMeansPlusPlus\n",
    "\n",
    "def test_length():\n",
    "    data = np.random.normal(size=(2000,2))\n",
    "    k = 3\n",
    "    l = 5\n",
    "    ini1 = KMeansPlusPlus(data, k)\n",
    "    ini2 = ScalableKMeansPlusPlus(data, k, l)\n",
    "    assert len(ini1)==k and len(ini2)==k\n",
    "\n",
    "def test_length():\n",
    "    data = np.random.normal(size=(2000,2))\n",
    "    k = 3\n",
    "    l = 5\n",
    "    ini1 = KMeansPlusPlus(data, k)\n",
    "    ini2 = ScalableKMeansPlusPlus(data, k, l)\n",
    "    check1 = [i in data for i in ini1]\n",
    "    check2 = [i in data for i in ini1]\n",
    "    assert all(check1) and all(check2)"
   ]
  },
  {
   "cell_type": "code",
   "execution_count": 93,
   "metadata": {
    "collapsed": false
   },
   "outputs": [
    {
     "name": "stdout",
     "output_type": "stream",
     "text": [
      "\u001b[1m============================= test session starts ==============================\u001b[0m\n",
      "platform darwin -- Python 3.5.1, pytest-2.8.1, py-1.4.30, pluggy-0.3.1\n",
      "rootdir: /Users/fwen/Desktop/sta-663-2016/STA663-Final-Project, inifile: \n",
      "collected 15 items \n",
      "\u001b[0m\n",
      "test_cost.py .\n",
      "test_distance.py ......\n",
      "test_distribution.py ..\n",
      "test_kmeans.py .\n",
      "test_kmeanspp.py .\n",
      "test_sample_new.py ..\n",
      "test_weights.py ..\n",
      "\n",
      "\u001b[1m\u001b[32m========================== 15 passed in 0.22 seconds ===========================\u001b[0m\n"
     ]
    }
   ],
   "source": [
    "! py.test "
   ]
  },
  {
   "cell_type": "markdown",
   "metadata": {},
   "source": [
    "## 4.  Optimization"
   ]
  },
  {
   "cell_type": "markdown",
   "metadata": {},
   "source": [
    "## 5. High performance computing"
   ]
  },
  {
   "cell_type": "markdown",
   "metadata": {},
   "source": [
    "## 5.1 Parallel"
   ]
  },
  {
   "cell_type": "code",
   "execution_count": null,
   "metadata": {
    "collapsed": false
   },
   "outputs": [],
   "source": []
  },
  {
   "cell_type": "code",
   "execution_count": 88,
   "metadata": {
    "collapsed": false
   },
   "outputs": [],
   "source": [
    "import numpy as np\n",
    "from concurrent.futures import ThreadPoolExecutor, ProcessPoolExecutor\n",
    "from multiprocessing import Pool, cpu_count"
   ]
  },
  {
   "cell_type": "code",
   "execution_count": null,
   "metadata": {
    "collapsed": false
   },
   "outputs": [],
   "source": []
  },
  {
   "cell_type": "code",
   "execution_count": null,
   "metadata": {
    "collapsed": false
   },
   "outputs": [],
   "source": []
  },
  {
   "cell_type": "code",
   "execution_count": null,
   "metadata": {
    "collapsed": true
   },
   "outputs": [],
   "source": []
  },
  {
   "cell_type": "code",
   "execution_count": null,
   "metadata": {
    "collapsed": true
   },
   "outputs": [],
   "source": [
    "%%file KMeansParallel\n",
    "%%file HPC_scalablekmeanspp_func.py\n",
    "import numpy as np\n",
    "from distribution_func import distribution\n",
    "from sample_new_func import sample_new\n",
    "from get_weight_func import get_weight\n",
    "from multiprocessing import Pool, cpu_count\n",
    "\n",
    "def min_distance(d, centroids):\n",
    "    \"\"\" Calculate the minimum distance from one data point to one center\n",
    "    Parameters:\n",
    "       d      1*d\n",
    "       center k*d\n",
    "\n",
    "    Returns:\n",
    "       distence 1*k \n",
    "    \"\"\"\n",
    "    dist = np.min(np.sum((centroids - d)**2, axis=1))\n",
    "    return dist\n",
    "\n",
    "def cost(data, centroids): \n",
    "    \"\"\" Calculate the cost of data with respect to the current centroids\n",
    "    Parameters:\n",
    "       dist     n*kstar distance matrix between data and current centroids\n",
    "    \n",
    "    Returns:    the normalized constant in the distribution \n",
    "    \"\"\"\n",
    "    \n",
    "    pool = Pool(processes=cpu_count())  ## speed up with multiple cores\n",
    "    partial_dist = partial(min_distance, centroids = centroids)\n",
    "    cost = np.sum(pool.map(partial_dist,data))\n",
    "    pool.close()\n",
    "    pool.terminate() \n",
    "    return cost\n",
    "\n",
    "def ScalableKMeansPlusPlus(data, k, l):\n",
    "    \n",
    "    \"\"\" Apply the KMeans|| clustering algorithm\n",
    "    \n",
    "    Parameters:\n",
    "      data                        ndarrays data \n",
    "      k                           number of cluster\n",
    "      l                           number of point sampled in each iteration\n",
    "    \n",
    "    Returns:\n",
    "      \"Centroids\"                 the final centroids finded by KMeans  \n",
    "      \n",
    "    \"\"\"\n",
    "    \n",
    "    centroids = data[np.random.choice(range(data.shape[0]),1), :]\n",
    "    \n",
    "    #Calculate the iteration time\n",
    "    dist = distance(data,centroids)\n",
    "    iter = int(np.log(cost(dist)))\n",
    "    \n",
    "    for i in range(iter):\n",
    "        #Get the distance between data and centroids\n",
    "        dist = distance(data, centroids)\n",
    "        \n",
    "        #Calculate the cost of data with respect to the centroids\n",
    "        norm_const = cost(dist)\n",
    "        \n",
    "        #Calculate the distribution for sampling l new centers\n",
    "        p = distribution(dist,norm_const)\n",
    "        \n",
    "        #Sample the l new centers and append them to the original ones\n",
    "        centroids = np.r_[centroids, sample_new(data,p,l)]\n",
    "    \n",
    "\n",
    "    ## reduce k*l to k using KMeans++ \n",
    "    dist = distance(data, centroids)\n",
    "    weights = get_weight(dist,centroids)\n",
    "    \n",
    "    return centroids[np.random.choice(range(len(weights)),k,p=weights),:]"
   ]
  },
  {
   "cell_type": "code",
   "execution_count": 25,
   "metadata": {
    "collapsed": true
   },
   "outputs": [],
   "source": [
    "from multiprocessing import Pool, cpu_count\n",
    "from functools import partial"
   ]
  },
  {
   "cell_type": "code",
   "execution_count": null,
   "metadata": {
    "collapsed": true
   },
   "outputs": [],
   "source": [
    "    \"\"\" Apply the KMeans|| clustering algorithm\n",
    "    \n",
    "    Parameters:\n",
    "      data                        ndarrays data \n",
    "      k                           number of cluster\n",
    "      l                           number of point sampled in each iteration\n",
    "    \n",
    "    Returns:\n",
    "      \"Centroids\"                 the final centroids finded by KMeans  \n",
    "      \n",
    "    \"\"\"\n",
    "    \n",
    "    centroids = data[np.random.choice(range(data.shape[0]),1), :]\n",
    "    \n",
    "    #Calculate the iteration time\n",
    "    dist = distance(data,centroids)\n",
    "    iter = int(np.log(cost(dist)))\n",
    "    \n",
    "    for i in range(iter):\n",
    "        #Get the distance between data and centroids\n",
    "        dist = distance(data, centroids)\n",
    "        \n",
    "        #Calculate the cost of data with respect to the centroids\n",
    "        norm_const = cost(dist)\n",
    "        \n",
    "        #Calculate the distribution for sampling l new centers\n",
    "        p = distribution(dist,norm_const)\n",
    "        \n",
    "        #Sample the l new centers and append them to the original ones\n",
    "        centroids = np.r_[centroids, sample_new(data,p,l)]\n",
    "    \n",
    "\n",
    "    ## reduce k*l to k using KMeans++ \n",
    "    dist = distance(data, centroids)\n",
    "    weights = get_weight(dist,centroids)\n",
    "    \n",
    "    return centroids[np.random.choice(range(len(weights)),k,p=weights),:]"
   ]
  },
  {
   "cell_type": "markdown",
   "metadata": {},
   "source": [
    "## 5.  Application and comparison"
   ]
  },
  {
   "cell_type": "code",
   "execution_count": 9,
   "metadata": {
    "collapsed": true
   },
   "outputs": [],
   "source": [
    "def MisClassRate(trueLabels, predict):\n",
    "    \"\"\"\n",
    "    Calculate the misclassification rate of the algorithm\n",
    "    \n",
    "    Parameters:\n",
    "    trueLabels   n*1 true labels of each observation  \n",
    "    predict      n*1 predict labels of each observation \n",
    "    \n",
    "    Returns:     misclassification rate \n",
    "    \"\"\"\n",
    "    \n",
    "    df = DataFrame({'True':trueLabels, 'Predict':predict['Labels'],'V':1})\n",
    "    table = pd.pivot_table(df, values ='V', index = ['True'], columns=['Predict'], aggfunc=np.sum).fillna(0)\n",
    "    misRate = 1-sum(table.max(axis=1))/n\n",
    "    return misRate"
   ]
  },
  {
   "cell_type": "markdown",
   "metadata": {},
   "source": [
    "### 5.1 Simulate Data \n",
    "\n",
    "To generate the dataset GAUSSMIXTURE, we sampled k=5 centers from a 15-dimensional spherical Gaussian distribution with mean at the origin and variance $R\\in \\{1,10,100 \\}$ and then added points from Gaussian distributions with unit variance around each center."
   ]
  },
  {
   "cell_type": "code",
   "execution_count": 14,
   "metadata": {
    "collapsed": true
   },
   "outputs": [],
   "source": [
    "## Simulate data\n",
    "k = 20\n",
    "n = 10000\n",
    "d = 15\n",
    "\n",
    "## simulate k centers from 15-dimensional spherical Gaussian distribution \n",
    "mean = np.hstack(np.zeros((d,1)))\n",
    "cov = np.diag(np.array([1,10,100]*5))\n",
    "centers = np.random.multivariate_normal(mean, cov, k)\n",
    "\n",
    "## Simulate n data\n",
    "for i in range(k):\n",
    "    mean = centers[i]\n",
    "    if i == 0:\n",
    "        data = np.random.multivariate_normal(mean, np.diag(np.ones(d)), int(n/k+n%k))\n",
    "        trueLabels = np.repeat(i,int(n/k+n%k))\n",
    "    else:\n",
    "        data = np.append(data, np.random.multivariate_normal(mean, np.diag(np.ones(d)) , int(n/k)), axis = 0) \n",
    "        trueLabels = np.append(trueLabels,np.repeat(i,int(n/k)))"
   ]
  },
  {
   "cell_type": "code",
   "execution_count": 16,
   "metadata": {
    "collapsed": false
   },
   "outputs": [
    {
     "name": "stdout",
     "output_type": "stream",
     "text": [
      "Converge\n"
     ]
    }
   ],
   "source": [
    "from kmeans_func import KMeans\n",
    "centroids_initial = data[np.random.choice(range(data.shape[0]), k, replace=False),:]\n",
    "output_k = KMeans(data, k, centroids_initial)"
   ]
  },
  {
   "cell_type": "code",
   "execution_count": 7,
   "metadata": {
    "collapsed": false
   },
   "outputs": [
    {
     "data": {
      "image/png": "[encoded data removed]",
      "text/plain": [
       "<matplotlib.figure.Figure at 0x10bcc6e80>"
      ]
     },
     "metadata": {},
     "output_type": "display_data"
    }
   ],
   "source": [
    "## plot the first two dimensions\n",
    "centroids = data[np.random.choice(range(data.shape[0]), k, replace=False),:]\n",
    "\n",
    "cmap = plt.get_cmap('gnuplot')\n",
    "colors = [cmap(i) for i in np.linspace(0, 1, k)]\n",
    "\n",
    "centroids1 =output_k[\"Centroids\"]\n",
    "labels1 = output_k[\"Labels\"]\n",
    "\n",
    "for i,color in enumerate(colors,start =1):\n",
    "    plt.scatter(data[labels1==i, :][:,0], data[labels1==i, :][:,1], color=color)\n",
    "\n",
    "for j in range(k):\n",
    "    plt.scatter(centroids1[j,0],centroids1[j,1],color = 'w',marker='x')  "
   ]
  },
  {
   "cell_type": "code",
   "execution_count": 10,
   "metadata": {
    "collapsed": false
   },
   "outputs": [
    {
     "data": {
      "text/plain": [
       "0.067999999999999949"
      ]
     },
     "execution_count": 10,
     "metadata": {},
     "output_type": "execute_result"
    }
   ],
   "source": [
    "MisClassRate(trueLabels, output_k)"
   ]
  },
  {
   "cell_type": "markdown",
   "metadata": {
    "collapsed": true
   },
   "source": [
    "## Reference"
   ]
  },
  {
   "cell_type": "markdown",
   "metadata": {
    "collapsed": true
   },
   "source": [
    "[1] Wu, Xindong, et al. \"Top 10 algorithms in data mining.\" Knowledge and information systems 14.1 (2008): 1-37.\n",
    "\n",
    "[2] Bahmani, Bahman, et al. \"Scalable k-means++.\" Proceedings of the VLDB Endowment 5.7 (2012): 622-633\n",
    "\n",
    "[3] Lichman, M. (2013). UCI Machine Learning Repository [http://archive.ics.uci.edu/ml]. Irvine, CA: University of California, School of Information and Computer Science.\n"
   ]
  },
  {
   "cell_type": "code",
   "execution_count": 12,
   "metadata": {
    "collapsed": false
   },
   "outputs": [
    {
     "data": {
      "text/plain": [
       "array([1, 4])"
      ]
     },
     "execution_count": 12,
     "metadata": {},
     "output_type": "execute_result"
    }
   ],
   "source": [
    "A = np.array([[1,2,3],[4,5,6]])\n",
    "np.min(A,axis=1)"
   ]
  },
  {
   "cell_type": "code",
   "execution_count": null,
   "metadata": {
    "collapsed": true
   },
   "outputs": [],
   "source": []
  }
 ],
 "metadata": {
  "kernelspec": {
   "display_name": "Python 3",
   "language": "python",
   "name": "python3"
  },
  "language_info": {
   "codemirror_mode": {
    "name": "ipython",
    "version": 3
   },
   "file_extension": ".py",
   "mimetype": "text/x-python",
   "name": "python",
   "nbconvert_exporter": "python",
   "pygments_lexer": "ipython3",
   "version": "3.5.1"
  }
 },
 "nbformat": 4,
 "nbformat_minor": 0
}
