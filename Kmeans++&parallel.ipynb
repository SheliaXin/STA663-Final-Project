{
 "cells": [
  {
   "cell_type": "code",
   "execution_count": 15,
   "metadata": {
    "collapsed": true
   },
   "outputs": [],
   "source": [
    "import numpy as np\n",
    "def KMeansPlusPlus(data, k):\n",
    "    n = data.shape[0]\n",
    "    \n",
    "    #Initialize the first centroid\n",
    "    centroids = data[np.random.choice(range(n),1),:]\n",
    "    \n",
    "    #broadcast the data sets to calculate the distance conveniently\n",
    "    data_expand = data[:, np.newaxis, :]\n",
    "    \n",
    "    while centroids.shape[0] < k :\n",
    "        \n",
    "        #Calculate the distance between \n",
    "        pre_distance = (data_expand - centroids) ** 2\n",
    "        distance = np.sum(pre_distance, axis=2)\n",
    "        \n",
    "        #mark the location of minimum distance for every centroid\n",
    "        min_dist = np.zeros(distance.shape)\n",
    "        min_dist[range(distance.shape[0]), np.argmin(distance, axis=1)] = 1\n",
    "        \n",
    "        #Calculate the normal constant of the distribution\n",
    "        normal_cons = np.sum(distance[min_dist == 1])\n",
    "        \n",
    "        #Get the distribution for sampling new centroids\n",
    "        distribution = np.min(distance, axis=1)/normal_cons\n",
    "        \n",
    "        #Obtain the next centroid and append\n",
    "        centroids = np.r_[centroids, data[np.random.choice(range(n),1,p=distribution), :]]\n",
    "    \n",
    "    return centroids"
   ]
  },
  {
   "cell_type": "code",
   "execution_count": 4,
   "metadata": {
    "collapsed": false
   },
   "outputs": [
    {
     "ename": "NameError",
     "evalue": "name 'KMeansPlusPlus' is not defined",
     "output_type": "error",
     "traceback": [
      "\u001b[0;31m---------------------------------------------------------------------------\u001b[0m",
      "\u001b[0;31mNameError\u001b[0m                                 Traceback (most recent call last)",
      "\u001b[0;32m<ipython-input-4-da214e54267a>\u001b[0m in \u001b[0;36m<module>\u001b[0;34m()\u001b[0m\n\u001b[1;32m      2\u001b[0m \u001b[0;31m# if all of inputs is correct, it works well.\u001b[0m\u001b[0;34m\u001b[0m\u001b[0;34m\u001b[0m\u001b[0m\n\u001b[1;32m      3\u001b[0m \u001b[0mdata1\u001b[0m \u001b[0;34m=\u001b[0m \u001b[0mnp\u001b[0m\u001b[0;34m.\u001b[0m\u001b[0mrandom\u001b[0m\u001b[0;34m.\u001b[0m\u001b[0mrandn\u001b[0m\u001b[0;34m(\u001b[0m\u001b[0;36m1000\u001b[0m\u001b[0;34m,\u001b[0m\u001b[0;36m2\u001b[0m\u001b[0;34m)\u001b[0m\u001b[0;34m\u001b[0m\u001b[0m\n\u001b[0;32m----> 4\u001b[0;31m \u001b[0mprint\u001b[0m \u001b[0;34m(\u001b[0m\u001b[0mKMeansPlusPlus\u001b[0m\u001b[0;34m(\u001b[0m\u001b[0mdata1\u001b[0m\u001b[0;34m,\u001b[0m\u001b[0mk\u001b[0m\u001b[0;34m)\u001b[0m\u001b[0;34m)\u001b[0m\u001b[0;34m\u001b[0m\u001b[0m\n\u001b[0m",
      "\u001b[0;31mNameError\u001b[0m: name 'KMeansPlusPlus' is not defined"
     ]
    }
   ],
   "source": [
    "k = 3\n",
    "# if all of inputs is correct, it works well.\n",
    "data1 = np.random.randn(1000,2)\n",
    "print (KMeansPlusPlus(data1,k))"
   ]
  },
  {
   "cell_type": "code",
   "execution_count": 13,
   "metadata": {
    "collapsed": true
   },
   "outputs": [],
   "source": [
    "def ScalableKMeansPlusPlus(data, k, l):\n",
    "    \n",
    "    centroids = data[np.random.choice(range(data.shape[0]),1), :]\n",
    "    data_expand = data[:, np.newaxis, :]\n",
    "    \n",
    "    #Calculate the iteration times\n",
    "    pre_distance = (data_expand - centroids) ** 2\n",
    "    distance = np.sum(pre_distance, axis=2)\n",
    "    min_dist = np.zeros(distance.shape)\n",
    "    min_dist[range(distance.shape[0]), np.argmin(distance, axis=1)] = 1\n",
    "    normal_cons = np.sum(distance[min_dist == 1])\n",
    "    iter = int(np.log(normal_cons))\n",
    "    \n",
    "    for i in range(iter):\n",
    "        pre_distance = (data_expand - centroids) ** 2\n",
    "        distance = np.sum(pre_distance, axis=2)\n",
    "        # the minimum pre_distance\n",
    "        min = np.min(distance, axis=1).reshape(-1,1)\n",
    "        # random matrix with the same size as min\n",
    "        random_matrix = np.random.rand(min.shape[0],min.shape[1])\n",
    "        # replace zeros in min with the lowest positive float\n",
    "        min[np.where(min==0)] = np.nextafter(0,1)\n",
    "        # (1.0/min)th root of random matrix\n",
    "        random_matrix = random_matrix ** (1.0/min) \n",
    "        # choose the highest l\n",
    "        center = data[np.argsort(random_matrix, axis=0)[:, 0]][::-1][:l, :]\n",
    "        # combine the new centroids with the old one\n",
    "        centroids = np.vstack((centroids, center))\n",
    "        # Finally we get a set of centroids which is higher than k\n",
    "\n",
    "    ## reduce k*l to k using KMeans++\n",
    "    pre_distance = (data_expand - centroids) ** 2\n",
    "    distance = np.sum(pre_distance, axis=2)\n",
    "    min_dist = np.zeros(distance.shape)\n",
    "    min_dist[range(distance.shape[0]), np.argmin(distance, axis=1)] = 1\n",
    "    weights = np.array([np.count_nonzero(min_dist[:, i]) for i in range(centroids.shape[0])]).reshape(-1,1)\n",
    "    prob_distribution = weights/np.sum(weights)\n",
    "    centroids = data[np.random.choice(range(weights.shape[0]),k,p=prob_distribution.ravel()),:]\n",
    "    \n",
    "    return centroids\n"
   ]
  },
  {
   "cell_type": "code",
   "execution_count": 14,
   "metadata": {
    "collapsed": false
   },
   "outputs": [
    {
     "data": {
      "text/plain": [
       "array([[-0.30352925, -0.50441264],\n",
       "       [-1.22870384, -0.08620885],\n",
       "       [ 0.56440645,  0.30014885]])"
      ]
     },
     "execution_count": 14,
     "metadata": {},
     "output_type": "execute_result"
    }
   ],
   "source": [
    "k = 3\n",
    "l = 2\n",
    "data1 = np.random.randn(1000,2)\n",
    "ScalableKMeansPlusPlus(data1,k,l)"
   ]
  },
  {
   "cell_type": "code",
   "execution_count": null,
   "metadata": {
    "collapsed": true
   },
   "outputs": [],
   "source": []
  },
  {
   "cell_type": "code",
   "execution_count": null,
   "metadata": {
    "collapsed": true
   },
   "outputs": [],
   "source": []
  }
 ],
 "metadata": {
  "kernelspec": {
   "display_name": "Python 3",
   "language": "python",
   "name": "python3"
  },
  "language_info": {
   "codemirror_mode": {
    "name": "ipython",
    "version": 3
   },
   "file_extension": ".py",
   "mimetype": "text/x-python",
   "name": "python",
   "nbconvert_exporter": "python",
   "pygments_lexer": "ipython3",
   "version": "3.5.1"
  }
 },
 "nbformat": 4,
 "nbformat_minor": 0
}
