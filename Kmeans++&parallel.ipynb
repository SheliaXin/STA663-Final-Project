{
 "cells": [
  {
   "cell_type": "code",
   "execution_count": 59,
   "metadata": {
    "collapsed": true
   },
   "outputs": [],
   "source": [
    "import numpy as np\n",
    "def KMeansPlusPlus(data, k):\n",
    "    n = data.shape[0]\n",
    "    \n",
    "    #Initialize the first centroid\n",
    "    centroids = data[np.random.choice(range(n),1),:]\n",
    "    \n",
    "    #broadcast the data sets to calculate the distance conveniently\n",
    "    data_expand = data[:, np.newaxis, :]\n",
    "    \n",
    "    while centroids.shape[0] < k :\n",
    "        \n",
    "        #Calculate the distance between \n",
    "        pre_distance = (data_expand - centroids) ** 2\n",
    "        distance = np.sum(pre_distance, axis=2)\n",
    "        \n",
    "        #mark the location of minimum distance for every centroid\n",
    "        min_dist = np.zeros(distance.shape)\n",
    "        min_dist[range(distance.shape[0]), np.argmin(distance, axis=1)] = 1\n",
    "        \n",
    "        #Calculate the normal constant of the distribution\n",
    "        normal_cons = np.sum(distance[min_dist == 1])\n",
    "        \n",
    "        #Get the distribution for sampling new centroids\n",
    "        distribution = np.min(distance, axis=1)/normal_cons\n",
    "        \n",
    "        #Obtain the next centroid and append\n",
    "        centroids = np.r_[centroids, data[np.random.choice(range(n),1,p=distribution), :]]\n",
    "    \n",
    "    return centroids"
   ]
  },
  {
   "cell_type": "code",
   "execution_count": 55,
   "metadata": {
    "collapsed": false
   },
   "outputs": [
    {
     "data": {
      "text/plain": [
       "823"
      ]
     },
     "execution_count": 55,
     "metadata": {},
     "output_type": "execute_result"
    }
   ],
   "source": [
    "k = 3\n",
    "# if all of inputs is correct, it works well.\n",
    "data1 = np.random.randn(1000,2)\n",
    "\n",
    "def random_pick(distribution,l):\n",
    "    cutoffs = np.cumsum(distribution)\n",
    "    idx = cutoffs.searchsorted(np.random.uniform(0, cutoffs[-1],l))\n",
    "    return idx"
   ]
  },
  {
   "cell_type": "code",
   "execution_count": 58,
   "metadata": {
    "collapsed": false
   },
   "outputs": [],
   "source": [
    "def random_pick(distribution,l):\n",
    "    cutoffs = np.cumsum(distribution)\n",
    "    idx = cutoffs.searchsorted(np.random.uniform(0, cutoffs[-1],l))\n",
    "    return idx"
   ]
  },
  {
   "cell_type": "code",
   "execution_count": 60,
   "metadata": {
    "collapsed": true
   },
   "outputs": [],
   "source": [
    "def ScalableKMeansPlusPlus(data, k, l):\n",
    "    \n",
    "    centroids = data[np.random.choice(range(data.shape[0]),1), :]\n",
    "    data_expand = data[:, np.newaxis, :]\n",
    "    \n",
    "    #Calculate the iteration times\n",
    "    pre_distance = (data_expand - centroids) ** 2\n",
    "    distance = np.sum(pre_distance, axis=2)\n",
    "    min_dist = np.zeros(distance.shape)\n",
    "    min_dist[range(distance.shape[0]), np.argmin(distance, axis=1)] = 1\n",
    "    normal_cons = np.sum(distance[min_dist == 1])\n",
    "    iter = int(np.log(normal_cons))\n",
    "    \n",
    "    for i in range(iter):\n",
    "        pre_distance = (data_expand - centroids) ** 2\n",
    "        distance = np.sum(pre_distance, axis=2)\n",
    "        \n",
    "        #mark the location of minimum distance for every centroid\n",
    "        min_dist = np.zeros(distance.shape)\n",
    "        min_dist[range(distance.shape[0]), np.argmin(distance, axis=1)] = 1\n",
    "        \n",
    "        #Calculate the normal constant of the distribution\n",
    "        normal_cons = np.sum(distance[min_dist == 1])\n",
    "        \n",
    "        #Get the distribution for sampling new centroids\n",
    "        distribution = np.min(distance, axis=1)/normal_cons\n",
    "        \n",
    "        center_index = random_pick(distribution,l)\n",
    "        center = X[center_index,]\n",
    "        \n",
    "        centroids = np.vstack((centroids, center))\n",
    "        # Finally we get a set of centroids which is higher than k\n",
    "\n",
    "    ## reduce k*l to k using KMeans++\n",
    "    pre_distance = (data_expand - centroids) ** 2\n",
    "    distance = np.sum(pre_distance, axis=2)\n",
    "    min_dist = np.zeros(distance.shape)\n",
    "    min_dist[range(distance.shape[0]), np.argmin(distance, axis=1)] = 1\n",
    "    weights = np.array([np.count_nonzero(min_dist[:, i]) for i in range(centroids.shape[0])]).reshape(-1,1)\n",
    "    prob_distribution = weights/np.sum(weights)\n",
    "    centroids = data[np.random.choice(range(weights.shape[0]),k,p=prob_distribution.ravel()),:]\n",
    "    \n",
    "    return centroids"
   ]
  },
  {
   "cell_type": "code",
   "execution_count": 61,
   "metadata": {
    "collapsed": false
   },
   "outputs": [
    {
     "data": {
      "text/plain": [
       "array([[ 0.62064658,  0.72589247],\n",
       "       [ 0.62064658,  0.72589247],\n",
       "       [-0.52097528,  0.10060321]])"
      ]
     },
     "execution_count": 61,
     "metadata": {},
     "output_type": "execute_result"
    }
   ],
   "source": [
    "k = 3\n",
    "l = 2\n",
    "data1 = np.random.randn(1000,2)\n",
    "ScalableKMeansPlusPlus(data1,k,l)"
   ]
  },
  {
   "cell_type": "code",
   "execution_count": 4,
   "metadata": {
    "collapsed": false
   },
   "outputs": [
    {
     "data": {
      "text/plain": [
       "1000"
      ]
     },
     "execution_count": 4,
     "metadata": {},
     "output_type": "execute_result"
    }
   ],
   "source": [
    "X.shape[0]"
   ]
  },
  {
   "cell_type": "code",
   "execution_count": 7,
   "metadata": {
    "collapsed": true
   },
   "outputs": [],
   "source": [
    "## paition the data set X\n",
    "from pyspark import SparkContext\n",
    "sc = SparkContext(master = 'local[*]')"
   ]
  },
  {
   "cell_type": "code",
   "execution_count": 1,
   "metadata": {
    "collapsed": true
   },
   "outputs": [],
   "source": [
    "## Simulate data\n",
    "k = 20\n",
    "n = 10000\n",
    "d = 15\n",
    "\n",
    "## simulate k centers from 15-dimensional spherical Gaussian distribution \n",
    "mean = np.hstack(np.zeros((d,1)))\n",
    "cov = np.diag(np.array([1,10,100]*5))\n",
    "centers = np.random.multivariate_normal(mean, cov, k)\n",
    "\n",
    "## Simulate n data\n",
    "for i in range(k):\n",
    "    mean = centers[i]\n",
    "    if i == 0:\n",
    "        data = np.random.multivariate_normal(mean, np.diag(np.ones(d)) , int(n/k+n%k))\n",
    "    else:\n",
    "        data = np.append(data, np.random.multivariate_normal(mean, np.diag(np.ones(d)) , int(n/k)), axis = 0) "
   ]
  },
  {
   "cell_type": "code",
   "execution_count": null,
   "metadata": {
    "collapsed": true
   },
   "outputs": [],
   "source": [
    "X=data"
   ]
  },
  {
   "cell_type": "code",
   "execution_count": 11,
   "metadata": {
    "collapsed": false
   },
   "outputs": [
    {
     "name": "stderr",
     "output_type": "stream",
     "text": [
      "/Users/fwen/anaconda/lib/python3.5/site-packages/pyspark/mllib/clustering.py:176: UserWarning: Support for runs is deprecated in 1.6.0. This param will have no effect in 1.7.0.\n",
      "  \"Support for runs is deprecated in 1.6.0. This param will have no effect in 1.7.0.\")\n"
     ]
    },
    {
     "name": "stdout",
     "output_type": "stream",
     "text": [
      "Within Set Sum of Squared Error = 1024.1977821724317\n"
     ]
    }
   ],
   "source": [
    "from pyspark.mllib.clustering import KMeans, KMeansModel\n",
    "from numpy import array\n",
    "from math import sqrt\n",
    "\n",
    "# Load and parse the data\n",
    "\n",
    "data = sc.parallelize(X)\n",
    "\n",
    "# Build the model (cluster the data)\n",
    "clusters = KMeans.train(data, 2, maxIterations=10,\n",
    "        runs=10, initializationMode=\"kmeans||\")\n",
    "\n",
    "# Evaluate clustering by computing Within Set Sum of Squared Errors\n",
    "def error(point):\n",
    "    center = clusters.centers[clusters.predict(point)]\n",
    "    return sqrt(sum([x**2 for x in (point - center)]))\n",
    "\n",
    "WSSSE = data.map(lambda point: error(point)).reduce(lambda x, y: x + y)\n",
    "print(\"Within Set Sum of Squared Error = \" + str(WSSSE))"
   ]
  },
  {
   "cell_type": "code",
   "execution_count": 18,
   "metadata": {
    "collapsed": false
   },
   "outputs": [
    {
     "data": {
      "text/plain": [
       "[array([ 0.77468133, -0.1934682 ]), array([-0.80748991,  0.2617322 ])]"
      ]
     },
     "execution_count": 18,
     "metadata": {},
     "output_type": "execute_result"
    }
   ],
   "source": [
    "clusters.centers"
   ]
  },
  {
   "cell_type": "code",
   "execution_count": 19,
   "metadata": {
    "collapsed": false
   },
   "outputs": [
    {
     "data": {
      "text/plain": [
       "[array([ 0.77468133, -0.1934682 ]), array([-0.80748991,  0.2617322 ])]"
      ]
     },
     "execution_count": 19,
     "metadata": {},
     "output_type": "execute_result"
    }
   ],
   "source": [
    "clusters.clusterCenters"
   ]
  },
  {
   "cell_type": "code",
   "execution_count": 27,
   "metadata": {
    "collapsed": false
   },
   "outputs": [],
   "source": [
    "n = [clusters.predict(x) for x in X] "
   ]
  },
  {
   "cell_type": "code",
   "execution_count": 29,
   "metadata": {
    "collapsed": false
   },
   "outputs": [],
   "source": [
    "?KMeans.train"
   ]
  },
  {
   "cell_type": "code",
   "execution_count": null,
   "metadata": {
    "collapsed": true
   },
   "outputs": [],
   "source": []
  }
 ],
 "metadata": {
  "kernelspec": {
   "display_name": "Python 3",
   "language": "python",
   "name": "python3"
  },
  "language_info": {
   "codemirror_mode": {
    "name": "ipython",
    "version": 3
   },
   "file_extension": ".py",
   "mimetype": "text/x-python",
   "name": "python",
   "nbconvert_exporter": "python",
   "pygments_lexer": "ipython3",
   "version": "3.5.1"
  }
 },
 "nbformat": 4,
 "nbformat_minor": 0
}
