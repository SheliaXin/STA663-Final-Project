{
 "cells": [
  {
   "cell_type": "markdown",
   "metadata": {},
   "source": [
    "## Simulate Data \n",
    "\n",
    "To generate the dataset GAUSSMIXTURE, we sampled k=5 centers from a 15-dimensional spherical Gaussian distribution with mean at the origin and variance $R\\in \\{1,10,100 \\}$ and then added points from Gaussian distributions with unit variance around each center."
   ]
  },
  {
   "cell_type": "code",
   "execution_count": 3,
   "metadata": {
    "collapsed": false
   },
   "outputs": [],
   "source": [
    "## Simulate data\n",
    "k = 20\n",
    "n = 10000\n",
    "d = 15\n",
    "\n",
    "## simulate k centers from 15-dimensional spherical Gaussian distribution \n",
    "mean = np.hstack(np.zeros((d,1)))\n",
    "cov = np.diag(np.array([1,10,100]*5))\n",
    "centers = np.random.multivariate_normal(mean, cov, k)\n",
    "\n",
    "## Simulate n data\n",
    "for i in range(k):\n",
    "    mean = centers[i]\n",
    "    if i == 0:\n",
    "        data = np.random.multivariate_normal(mean, np.diag(np.ones(d)) , int(n/k+n%k))\n",
    "    else:\n",
    "        data = np.append(data, np.random.multivariate_normal(mean, np.diag(np.ones(d)) , int(n/k)), axis = 0) "
   ]
  },
  {
   "cell_type": "code",
   "execution_count": 4,
   "metadata": {
    "collapsed": false
   },
   "outputs": [
    {
     "data": {
      "text/plain": [
       "(10000, 15)"
      ]
     },
     "execution_count": 4,
     "metadata": {},
     "output_type": "execute_result"
    }
   ],
   "source": [
    "data.shape"
   ]
  },
  {
   "cell_type": "markdown",
   "metadata": {},
   "source": [
    "## KMeans\n",
    "\n",
    "\n"
   ]
  },
  {
   "cell_type": "code",
   "execution_count": 36,
   "metadata": {
    "collapsed": true
   },
   "outputs": [],
   "source": [
    "def KMeans(data, k, centroids, max_iter = 10000): \n",
    "    \n",
    "    \"\"\" Apply the KMeans clustering algorithm\n",
    "    \n",
    "    Parameters:\n",
    "      data                        ndarrays data \n",
    "      k                           number of cluster\n",
    "      centroids                   initial centroids\n",
    "    \n",
    "    Returns:\n",
    "      \"Iteration before Coverge\"  time used to converge\n",
    "      \"Centroids\"                 the final centroids finded by KMeans    \n",
    "      \"Labels\"                    the cluster of each data   \n",
    "    \"\"\"\n",
    "    \n",
    "    n = data.shape[0] \n",
    "    iterations = 0\n",
    "    \n",
    "    while iterations < max_iter:        \n",
    "        ## calculate distence between each point to the three centroids\n",
    "        dist = np.sum((data[:, np.newaxis, :] - centroids)**2, axis=2)\n",
    "        \n",
    "        ## give cluster label to each point \n",
    "        cluster_label = np.argmin(dist, axis=1)\n",
    "        \n",
    "        ## calculate new centroids\n",
    "        newCentroids = np.zeros(centroids.shape)\n",
    "        for j in range(0, k):\n",
    "            if sum(cluster_label == j) == 0:\n",
    "                newCentroids[j] = centroids[j]\n",
    "            else:\n",
    "                newCentroids[j] = np.mean(data[cluster_label == j, :], axis=0)\n",
    "        \n",
    "        ## Check if it is converged\n",
    "        if np.array_equal(centroids, newCentroids):\n",
    "            print(\"Converge\")\n",
    "            break \n",
    "            \n",
    "        centroids = newCentroids\n",
    "        iterations += 1\n",
    "        \n",
    "    return({\"Iteration before Coverge\": iterations, \n",
    "            \"Centroids\": centroids, \n",
    "            \"Labels\": cluster_label})"
   ]
  },
  {
   "cell_type": "code",
   "execution_count": 37,
   "metadata": {
    "collapsed": false
   },
   "outputs": [
    {
     "name": "stdout",
     "output_type": "stream",
     "text": [
      "Converge\n"
     ]
    },
    {
     "data": {
      "text/plain": [
       "{'Centroids': array([[  0.26822612,   0.88701274,  -5.32107689,   0.09211889,\n",
       "          -0.71405037,  -2.84441004,   0.03114272,   2.22844915,\n",
       "          -1.98513624,  -0.31061524,   0.47862393,   9.55952361,\n",
       "           0.33278855,  -0.50233611,  -0.38189866],\n",
       "        [  0.2475699 ,   0.74202565,   9.16801481,   0.56615326,\n",
       "          -3.21085381,  -7.56552279,  -0.0637888 ,   2.32174818,\n",
       "          13.61411942,   0.63486105,  -0.77761489,  -2.83308631,\n",
       "           0.2002892 ,   1.24559861,  -3.78487688],\n",
       "        [  0.03561076,   3.61815552,  -0.48844399,   0.027959  ,\n",
       "           2.19524088,  12.91910162,  -0.78744788,  -0.25747557,\n",
       "           8.86137572,   0.08075333,   0.46134753,  -4.47722422,\n",
       "          -0.28661607,  -2.73701299,  -8.06625162]]),\n",
       " 'Iteration before Coverge': 8,\n",
       " 'Labels': array([2, 2, 2, ..., 0, 0, 0])}"
      ]
     },
     "execution_count": 37,
     "metadata": {},
     "output_type": "execute_result"
    }
   ],
   "source": [
    "centroids_initial = data[np.random.choice(range(data.shape[0]), k, replace=False),:]\n",
    "KMeans(data, k, centroids_initial)"
   ]
  },
  {
   "cell_type": "code",
   "execution_count": null,
   "metadata": {
    "collapsed": true
   },
   "outputs": [],
   "source": []
  },
  {
   "cell_type": "code",
   "execution_count": null,
   "metadata": {
    "collapsed": false
   },
   "outputs": [],
   "source": []
  },
  {
   "cell_type": "code",
   "execution_count": null,
   "metadata": {
    "collapsed": false
   },
   "outputs": [],
   "source": []
  },
  {
   "cell_type": "code",
   "execution_count": null,
   "metadata": {
    "collapsed": false,
    "scrolled": false
   },
   "outputs": [],
   "source": []
  },
  {
   "cell_type": "code",
   "execution_count": null,
   "metadata": {
    "collapsed": false
   },
   "outputs": [],
   "source": []
  },
  {
   "cell_type": "code",
   "execution_count": null,
   "metadata": {
    "collapsed": false
   },
   "outputs": [],
   "source": []
  },
  {
   "cell_type": "code",
   "execution_count": null,
   "metadata": {
    "collapsed": true
   },
   "outputs": [],
   "source": []
  }
 ],
 "metadata": {
  "kernelspec": {
   "display_name": "Python 3",
   "language": "python",
   "name": "python3"
  },
  "language_info": {
   "codemirror_mode": {
    "name": "ipython",
    "version": 3
   },
   "file_extension": ".py",
   "mimetype": "text/x-python",
   "name": "python",
   "nbconvert_exporter": "python",
   "pygments_lexer": "ipython3",
   "version": "3.5.1"
  }
 },
 "nbformat": 4,
 "nbformat_minor": 0
}
